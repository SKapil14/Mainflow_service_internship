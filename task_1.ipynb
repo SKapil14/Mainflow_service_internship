{
  "nbformat": 4,
  "nbformat_minor": 0,
  "metadata": {
    "colab": {
      "provenance": [],
      "toc_visible": true,
      "authorship_tag": "ABX9TyPtGN0ePlfzYiasCISjmZ9g",
      "include_colab_link": true
    },
    "kernelspec": {
      "name": "python3",
      "display_name": "Python 3"
    },
    "language_info": {
      "name": "python"
    }
  },
  "cells": [
    {
      "cell_type": "markdown",
      "metadata": {
        "id": "view-in-github",
        "colab_type": "text"
      },
      "source": [
        "<a href=\"https://colab.research.google.com/github/SKapil14/Mainflow_service_internship/blob/main/task_1.ipynb\" target=\"_parent\"><img src=\"https://colab.research.google.com/assets/colab-badge.svg\" alt=\"Open In Colab\"/></a>"
      ]
    },
    {
      "cell_type": "code",
      "source": [
        "# @title Default title text\n",
        "# Create a list\n",
        "my_list = [1, 2, 3, 4, 5]\n",
        "\n",
        "# Create a dictionary\n",
        "my_dict = {'a': 1, 'b': 2, 'c': 3}\n",
        "\n",
        "# Create a set\n",
        "my_set = {1, 2, 3, 4, 5}\n",
        "\n",
        "# Print initial values\n",
        "print(\"Initial list:\", my_list)\n",
        "print(\"Initial dictionary:\", my_dict)\n",
        "print(\"Initial set:\", my_set)\n",
        "\n",
        "# Perform basic operations\n",
        "\n",
        "# Add an element to the list\n",
        "my_list.append(6)\n",
        "\n",
        "# Add a new key-value pair to the dictionary\n",
        "my_dict['d'] = 4\n",
        "\n",
        "# Add an element to the set\n",
        "my_set.add(6)\n",
        "\n",
        "# Remove an element from the list\n",
        "my_list.remove(3)\n",
        "\n",
        "# Remove a key-value pair from the dictionary\n",
        "del my_dict['b']\n",
        "\n",
        "# Remove an element from the set\n",
        "my_set.remove(5)\n",
        "\n",
        "# Modify an element in the list\n",
        "my_list[0] = 10\n",
        "\n",
        "# Modify a value in the dictionary\n",
        "my_dict['a'] = 100\n",
        "\n",
        "# Print final values\n",
        "print(\"Updated list:\", my_list)\n",
        "print(\"Updated dictionary:\", my_dict)\n",
        "print(\"Updated set:\", my_set)\n"
      ],
      "metadata": {
        "colab": {
          "base_uri": "https://localhost:8080/"
        },
        "id": "KBpLpW3DfkNO",
        "outputId": "77720889-8a11-40f0-b7d7-213d1ed478a4"
      },
      "execution_count": null,
      "outputs": [
        {
          "output_type": "stream",
          "name": "stdout",
          "text": [
            "Initial list: [1, 2, 3, 4, 5]\n",
            "Initial dictionary: {'a': 1, 'b': 2, 'c': 3}\n",
            "Initial set: {1, 2, 3, 4, 5}\n",
            "Updated list: [10, 2, 4, 5, 6]\n",
            "Updated dictionary: {'a': 100, 'c': 3, 'd': 4}\n",
            "Updated set: {1, 2, 3, 4, 6}\n"
          ]
        }
      ]
    }
  ]
}